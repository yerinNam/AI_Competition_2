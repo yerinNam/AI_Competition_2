{
  "nbformat": 4,
  "nbformat_minor": 0,
  "metadata": {
    "colab": {
      "provenance": [],
      "machine_shape": "hm",
      "gpuType": "V100"
    },
    "kernelspec": {
      "name": "python3",
      "display_name": "Python 3"
    },
    "language_info": {
      "name": "python"
    },
    "accelerator": "GPU",
    "widgets": {
      "application/vnd.jupyter.widget-state+json": {
        "1f8f303536e743a7bfb25a5139d72cf0": {
          "model_module": "@jupyter-widgets/controls",
          "model_name": "HBoxModel",
          "model_module_version": "1.5.0",
          "state": {
            "_dom_classes": [],
            "_model_module": "@jupyter-widgets/controls",
            "_model_module_version": "1.5.0",
            "_model_name": "HBoxModel",
            "_view_count": null,
            "_view_module": "@jupyter-widgets/controls",
            "_view_module_version": "1.5.0",
            "_view_name": "HBoxView",
            "box_style": "",
            "children": [
              "IPY_MODEL_cb8a1859f1e946e3957c09cff6afd082",
              "IPY_MODEL_13b8f5da82f04382935041c274455221",
              "IPY_MODEL_77a94fb48f87403788f1cb1ff3f0e1d5"
            ],
            "layout": "IPY_MODEL_469b3d98a0bc4aaf9da1c8c1b66a9547"
          }
        },
        "cb8a1859f1e946e3957c09cff6afd082": {
          "model_module": "@jupyter-widgets/controls",
          "model_name": "HTMLModel",
          "model_module_version": "1.5.0",
          "state": {
            "_dom_classes": [],
            "_model_module": "@jupyter-widgets/controls",
            "_model_module_version": "1.5.0",
            "_model_name": "HTMLModel",
            "_view_count": null,
            "_view_module": "@jupyter-widgets/controls",
            "_view_module_version": "1.5.0",
            "_view_name": "HTMLView",
            "description": "",
            "description_tooltip": null,
            "layout": "IPY_MODEL_0401b21eae8f4a7fa17eb895ef11b262",
            "placeholder": "​",
            "style": "IPY_MODEL_91b07ab3480b47de984e352449871b6b",
            "value": "measuring accuracy: 100%"
          }
        },
        "13b8f5da82f04382935041c274455221": {
          "model_module": "@jupyter-widgets/controls",
          "model_name": "FloatProgressModel",
          "model_module_version": "1.5.0",
          "state": {
            "_dom_classes": [],
            "_model_module": "@jupyter-widgets/controls",
            "_model_module_version": "1.5.0",
            "_model_name": "FloatProgressModel",
            "_view_count": null,
            "_view_module": "@jupyter-widgets/controls",
            "_view_module_version": "1.5.0",
            "_view_name": "ProgressView",
            "bar_style": "success",
            "description": "",
            "description_tooltip": null,
            "layout": "IPY_MODEL_1429d3cd58d14c80b9601b9560adee37",
            "max": 28,
            "min": 0,
            "orientation": "horizontal",
            "style": "IPY_MODEL_8cddd2f2b34141e3bfe71062ba3e59e6",
            "value": 28
          }
        },
        "77a94fb48f87403788f1cb1ff3f0e1d5": {
          "model_module": "@jupyter-widgets/controls",
          "model_name": "HTMLModel",
          "model_module_version": "1.5.0",
          "state": {
            "_dom_classes": [],
            "_model_module": "@jupyter-widgets/controls",
            "_model_module_version": "1.5.0",
            "_model_name": "HTMLModel",
            "_view_count": null,
            "_view_module": "@jupyter-widgets/controls",
            "_view_module_version": "1.5.0",
            "_view_name": "HTMLView",
            "description": "",
            "description_tooltip": null,
            "layout": "IPY_MODEL_4c1f5eda8503495bbe456f051ec846b1",
            "placeholder": "​",
            "style": "IPY_MODEL_68ff3047cfc049459125b56ae8e8867d",
            "value": " 28/28 [03:04&lt;00:00,  6.15s/it]"
          }
        },
        "469b3d98a0bc4aaf9da1c8c1b66a9547": {
          "model_module": "@jupyter-widgets/base",
          "model_name": "LayoutModel",
          "model_module_version": "1.2.0",
          "state": {
            "_model_module": "@jupyter-widgets/base",
            "_model_module_version": "1.2.0",
            "_model_name": "LayoutModel",
            "_view_count": null,
            "_view_module": "@jupyter-widgets/base",
            "_view_module_version": "1.2.0",
            "_view_name": "LayoutView",
            "align_content": null,
            "align_items": null,
            "align_self": null,
            "border": null,
            "bottom": null,
            "display": null,
            "flex": null,
            "flex_flow": null,
            "grid_area": null,
            "grid_auto_columns": null,
            "grid_auto_flow": null,
            "grid_auto_rows": null,
            "grid_column": null,
            "grid_gap": null,
            "grid_row": null,
            "grid_template_areas": null,
            "grid_template_columns": null,
            "grid_template_rows": null,
            "height": null,
            "justify_content": null,
            "justify_items": null,
            "left": null,
            "margin": null,
            "max_height": null,
            "max_width": null,
            "min_height": null,
            "min_width": null,
            "object_fit": null,
            "object_position": null,
            "order": null,
            "overflow": null,
            "overflow_x": null,
            "overflow_y": null,
            "padding": null,
            "right": null,
            "top": null,
            "visibility": null,
            "width": null
          }
        },
        "0401b21eae8f4a7fa17eb895ef11b262": {
          "model_module": "@jupyter-widgets/base",
          "model_name": "LayoutModel",
          "model_module_version": "1.2.0",
          "state": {
            "_model_module": "@jupyter-widgets/base",
            "_model_module_version": "1.2.0",
            "_model_name": "LayoutModel",
            "_view_count": null,
            "_view_module": "@jupyter-widgets/base",
            "_view_module_version": "1.2.0",
            "_view_name": "LayoutView",
            "align_content": null,
            "align_items": null,
            "align_self": null,
            "border": null,
            "bottom": null,
            "display": null,
            "flex": null,
            "flex_flow": null,
            "grid_area": null,
            "grid_auto_columns": null,
            "grid_auto_flow": null,
            "grid_auto_rows": null,
            "grid_column": null,
            "grid_gap": null,
            "grid_row": null,
            "grid_template_areas": null,
            "grid_template_columns": null,
            "grid_template_rows": null,
            "height": null,
            "justify_content": null,
            "justify_items": null,
            "left": null,
            "margin": null,
            "max_height": null,
            "max_width": null,
            "min_height": null,
            "min_width": null,
            "object_fit": null,
            "object_position": null,
            "order": null,
            "overflow": null,
            "overflow_x": null,
            "overflow_y": null,
            "padding": null,
            "right": null,
            "top": null,
            "visibility": null,
            "width": null
          }
        },
        "91b07ab3480b47de984e352449871b6b": {
          "model_module": "@jupyter-widgets/controls",
          "model_name": "DescriptionStyleModel",
          "model_module_version": "1.5.0",
          "state": {
            "_model_module": "@jupyter-widgets/controls",
            "_model_module_version": "1.5.0",
            "_model_name": "DescriptionStyleModel",
            "_view_count": null,
            "_view_module": "@jupyter-widgets/base",
            "_view_module_version": "1.2.0",
            "_view_name": "StyleView",
            "description_width": ""
          }
        },
        "1429d3cd58d14c80b9601b9560adee37": {
          "model_module": "@jupyter-widgets/base",
          "model_name": "LayoutModel",
          "model_module_version": "1.2.0",
          "state": {
            "_model_module": "@jupyter-widgets/base",
            "_model_module_version": "1.2.0",
            "_model_name": "LayoutModel",
            "_view_count": null,
            "_view_module": "@jupyter-widgets/base",
            "_view_module_version": "1.2.0",
            "_view_name": "LayoutView",
            "align_content": null,
            "align_items": null,
            "align_self": null,
            "border": null,
            "bottom": null,
            "display": null,
            "flex": null,
            "flex_flow": null,
            "grid_area": null,
            "grid_auto_columns": null,
            "grid_auto_flow": null,
            "grid_auto_rows": null,
            "grid_column": null,
            "grid_gap": null,
            "grid_row": null,
            "grid_template_areas": null,
            "grid_template_columns": null,
            "grid_template_rows": null,
            "height": null,
            "justify_content": null,
            "justify_items": null,
            "left": null,
            "margin": null,
            "max_height": null,
            "max_width": null,
            "min_height": null,
            "min_width": null,
            "object_fit": null,
            "object_position": null,
            "order": null,
            "overflow": null,
            "overflow_x": null,
            "overflow_y": null,
            "padding": null,
            "right": null,
            "top": null,
            "visibility": null,
            "width": null
          }
        },
        "8cddd2f2b34141e3bfe71062ba3e59e6": {
          "model_module": "@jupyter-widgets/controls",
          "model_name": "ProgressStyleModel",
          "model_module_version": "1.5.0",
          "state": {
            "_model_module": "@jupyter-widgets/controls",
            "_model_module_version": "1.5.0",
            "_model_name": "ProgressStyleModel",
            "_view_count": null,
            "_view_module": "@jupyter-widgets/base",
            "_view_module_version": "1.2.0",
            "_view_name": "StyleView",
            "bar_color": null,
            "description_width": ""
          }
        },
        "4c1f5eda8503495bbe456f051ec846b1": {
          "model_module": "@jupyter-widgets/base",
          "model_name": "LayoutModel",
          "model_module_version": "1.2.0",
          "state": {
            "_model_module": "@jupyter-widgets/base",
            "_model_module_version": "1.2.0",
            "_model_name": "LayoutModel",
            "_view_count": null,
            "_view_module": "@jupyter-widgets/base",
            "_view_module_version": "1.2.0",
            "_view_name": "LayoutView",
            "align_content": null,
            "align_items": null,
            "align_self": null,
            "border": null,
            "bottom": null,
            "display": null,
            "flex": null,
            "flex_flow": null,
            "grid_area": null,
            "grid_auto_columns": null,
            "grid_auto_flow": null,
            "grid_auto_rows": null,
            "grid_column": null,
            "grid_gap": null,
            "grid_row": null,
            "grid_template_areas": null,
            "grid_template_columns": null,
            "grid_template_rows": null,
            "height": null,
            "justify_content": null,
            "justify_items": null,
            "left": null,
            "margin": null,
            "max_height": null,
            "max_width": null,
            "min_height": null,
            "min_width": null,
            "object_fit": null,
            "object_position": null,
            "order": null,
            "overflow": null,
            "overflow_x": null,
            "overflow_y": null,
            "padding": null,
            "right": null,
            "top": null,
            "visibility": null,
            "width": null
          }
        },
        "68ff3047cfc049459125b56ae8e8867d": {
          "model_module": "@jupyter-widgets/controls",
          "model_name": "DescriptionStyleModel",
          "model_module_version": "1.5.0",
          "state": {
            "_model_module": "@jupyter-widgets/controls",
            "_model_module_version": "1.5.0",
            "_model_name": "DescriptionStyleModel",
            "_view_count": null,
            "_view_module": "@jupyter-widgets/base",
            "_view_module_version": "1.2.0",
            "_view_name": "StyleView",
            "description_width": ""
          }
        }
      }
    }
  },
  "cells": [
    {
      "cell_type": "code",
      "execution_count": 1,
      "metadata": {
        "colab": {
          "base_uri": "https://localhost:8080/"
        },
        "id": "oVWuNrlD0lae",
        "outputId": "5ad192fb-8253-4e57-db3d-ba65f93713b3"
      },
      "outputs": [
        {
          "output_type": "stream",
          "name": "stdout",
          "text": [
            "Mounted at /content/drive\n"
          ]
        }
      ],
      "source": [
        "from google.colab import drive\n",
        "drive.mount('/content/drive', force_remount=True)"
      ]
    },
    {
      "cell_type": "code",
      "source": [
        "import torch\n",
        "import matplotlib.pyplot as plt\n",
        "import numpy as np\n",
        "import torch\n",
        "import torch.nn as nn # 인공 신경망 모델들 모아놓은 모듈\n",
        "import torch.nn.functional as F #그중 자주 쓰이는것들을 F로\n",
        "from torchvision import transforms, datasets\n",
        "import cv2\n",
        "import pandas as pd\n",
        "import os\n",
        "from glob import glob\n",
        "import torchvision.models as models\n",
        "import sys\n",
        "import librosa, librosa.display\n",
        "#from pytorchtools import EarlyStopping\n",
        "\n",
        "\n",
        "if torch.cuda.is_available():\n",
        "    DEVICE = torch.device('cuda')\n",
        "else:\n",
        "    DEVICE = torch.device('cpu')\n",
        "#DEVICE = torch.device('cpu')\n",
        "print('Using Pytorch version : ',torch.__version__,' Device : ',DEVICE)"
      ],
      "metadata": {
        "colab": {
          "base_uri": "https://localhost:8080/"
        },
        "id": "Ox2mpfEz1RgT",
        "outputId": "dc4309c5-7dbe-4bca-8129-fb5d1f79b837"
      },
      "execution_count": 2,
      "outputs": [
        {
          "output_type": "stream",
          "name": "stdout",
          "text": [
            "Using Pytorch version :  2.1.0+cu121  Device :  cuda\n"
          ]
        }
      ]
    },
    {
      "cell_type": "code",
      "source": [
        "#3. 하이퍼 파라미터\n",
        "BATCH_SIZE =  64 #한 배치당 32개 이미지데이터\n",
        "EPOCHS = 50# 전체 데이터 셋을 40번 반복"
      ],
      "metadata": {
        "id": "qqc5n7xQ1RmU"
      },
      "execution_count": 3,
      "outputs": []
    },
    {
      "cell_type": "code",
      "source": [
        "from torch.utils.data import random_split, DataLoader\n",
        "from torchvision.datasets import ImageFolder\n",
        "from sklearn.model_selection import train_test_split\n",
        "\n",
        "train_data_dir='/content/drive/MyDrive/food/kfood_health_train'\n",
        "# Create the ImageFolder dataset\n",
        "transform = transforms.Compose([\n",
        "    transforms.RandomResizedCrop(224, scale=(0.8, 1.0)),\n",
        "    transforms.RandomHorizontalFlip(),\n",
        "    transforms.RandomRotation(degrees=(-25, 25)),\n",
        "    transforms.ColorJitter(brightness=0.6, contrast=0.2, saturation=0.2, hue=0.2),\n",
        "    transforms.ToTensor(),\n",
        "    transforms.Normalize((0.5,0.5,0.5),(0.5,0.5,0.5))\n",
        "])\n",
        "dataset = ImageFolder(root=train_data_dir, transform=transform)\n",
        "\n",
        "# Define the sizes for the training and validation sets\n",
        "train_size = int(0.8 * len(dataset))  # 80% for training\n",
        "val_size = len(dataset) - train_size  # Remaining for validation\n",
        "\n",
        "# Split the dataset into training and validation sets\n",
        "train_dataset, val_dataset = random_split(dataset, [train_size, val_size])\n",
        "\n",
        "# Create DataLoaders for training and validation datasets\n",
        "train_loader = DataLoader(train_dataset, batch_size=BATCH_SIZE, shuffle=True, num_workers=4)\n",
        "validation_loader = DataLoader(val_dataset, batch_size=BATCH_SIZE, shuffle=True, num_workers=4)"
      ],
      "metadata": {
        "id": "1M3r8Ncf1RrJ"
      },
      "execution_count": 6,
      "outputs": []
    },
    {
      "cell_type": "code",
      "source": [
        "test_data_dir = '/content/drive/MyDrive/food/kfood_health_val'\n",
        "transform_test = transforms.Compose([\n",
        "    transforms.Resize((224, 224)),  # Resize to the same size used in training\n",
        "    transforms.ToTensor(),  # Convert to a tensor\n",
        "    transforms.Normalize((0.5, 0.5, 0.5), (0.5, 0.5, 0.5))  # Normalize using the same mean and standard deviation as training\n",
        "])\n",
        "test_dataset = ImageFolder(root=test_data_dir, transform=transform_test)\n",
        "\n",
        "test_loader = DataLoader(dataset=test_dataset, batch_size=BATCH_SIZE, shuffle=True, num_workers=8)"
      ],
      "metadata": {
        "id": "SiQgqpEk1z48"
      },
      "execution_count": 7,
      "outputs": []
    },
    {
      "cell_type": "code",
      "source": [
        "import torch\n",
        "import torchvision.models as models\n",
        "\n",
        "# ResNet-18 모델을 초기화합니다.\n",
        "model2 = models.resnet18()\n",
        "\n",
        "# 불러올 체크포인트 파일 경로를 지정합니다.\n",
        "checkpoint_path = '/content/drive/MyDrive/food/부트캠프 미션1 50 parameter.pt'\n",
        "\n",
        "# 저장된 모델 가중치를 불러옵니다.\n",
        "checkpoint = torch.load(checkpoint_path)\n",
        "\n",
        "# 모델의 가중치를 불러온 체크포인트로 업데이트합니다.\n",
        "model2.load_state_dict(checkpoint, strict=False)"
      ],
      "metadata": {
        "colab": {
          "base_uri": "https://localhost:8080/"
        },
        "id": "abg71xdxIjpN",
        "outputId": "2254a1cd-cab7-4439-f92a-ea156c6faaa1"
      },
      "execution_count": 13,
      "outputs": [
        {
          "output_type": "execute_result",
          "data": {
            "text/plain": [
              "_IncompatibleKeys(missing_keys=['conv1.weight', 'bn1.weight', 'bn1.bias', 'bn1.running_mean', 'bn1.running_var', 'layer1.0.conv1.weight', 'layer1.0.bn1.weight', 'layer1.0.bn1.bias', 'layer1.0.bn1.running_mean', 'layer1.0.bn1.running_var', 'layer1.0.conv2.weight', 'layer1.0.bn2.weight', 'layer1.0.bn2.bias', 'layer1.0.bn2.running_mean', 'layer1.0.bn2.running_var', 'layer1.1.conv1.weight', 'layer1.1.bn1.weight', 'layer1.1.bn1.bias', 'layer1.1.bn1.running_mean', 'layer1.1.bn1.running_var', 'layer1.1.conv2.weight', 'layer1.1.bn2.weight', 'layer1.1.bn2.bias', 'layer1.1.bn2.running_mean', 'layer1.1.bn2.running_var', 'layer2.0.conv1.weight', 'layer2.0.bn1.weight', 'layer2.0.bn1.bias', 'layer2.0.bn1.running_mean', 'layer2.0.bn1.running_var', 'layer2.0.conv2.weight', 'layer2.0.bn2.weight', 'layer2.0.bn2.bias', 'layer2.0.bn2.running_mean', 'layer2.0.bn2.running_var', 'layer2.0.downsample.0.weight', 'layer2.0.downsample.1.weight', 'layer2.0.downsample.1.bias', 'layer2.0.downsample.1.running_mean', 'layer2.0.downsample.1.running_var', 'layer2.1.conv1.weight', 'layer2.1.bn1.weight', 'layer2.1.bn1.bias', 'layer2.1.bn1.running_mean', 'layer2.1.bn1.running_var', 'layer2.1.conv2.weight', 'layer2.1.bn2.weight', 'layer2.1.bn2.bias', 'layer2.1.bn2.running_mean', 'layer2.1.bn2.running_var', 'layer3.0.conv1.weight', 'layer3.0.bn1.weight', 'layer3.0.bn1.bias', 'layer3.0.bn1.running_mean', 'layer3.0.bn1.running_var', 'layer3.0.conv2.weight', 'layer3.0.bn2.weight', 'layer3.0.bn2.bias', 'layer3.0.bn2.running_mean', 'layer3.0.bn2.running_var', 'layer3.0.downsample.0.weight', 'layer3.0.downsample.1.weight', 'layer3.0.downsample.1.bias', 'layer3.0.downsample.1.running_mean', 'layer3.0.downsample.1.running_var', 'layer3.1.conv1.weight', 'layer3.1.bn1.weight', 'layer3.1.bn1.bias', 'layer3.1.bn1.running_mean', 'layer3.1.bn1.running_var', 'layer3.1.conv2.weight', 'layer3.1.bn2.weight', 'layer3.1.bn2.bias', 'layer3.1.bn2.running_mean', 'layer3.1.bn2.running_var', 'layer4.0.conv1.weight', 'layer4.0.bn1.weight', 'layer4.0.bn1.bias', 'layer4.0.bn1.running_mean', 'layer4.0.bn1.running_var', 'layer4.0.conv2.weight', 'layer4.0.bn2.weight', 'layer4.0.bn2.bias', 'layer4.0.bn2.running_mean', 'layer4.0.bn2.running_var', 'layer4.0.downsample.0.weight', 'layer4.0.downsample.1.weight', 'layer4.0.downsample.1.bias', 'layer4.0.downsample.1.running_mean', 'layer4.0.downsample.1.running_var', 'layer4.1.conv1.weight', 'layer4.1.bn1.weight', 'layer4.1.bn1.bias', 'layer4.1.bn1.running_mean', 'layer4.1.bn1.running_var', 'layer4.1.conv2.weight', 'layer4.1.bn2.weight', 'layer4.1.bn2.bias', 'layer4.1.bn2.running_mean', 'layer4.1.bn2.running_var', 'fc.weight', 'fc.bias'], unexpected_keys=['epoch', 'model_state_dict', 'optimizer_state_dict', 'train_losses', 'train_accuracies', 'valid_losses', 'valid_accuracies'])"
            ]
          },
          "metadata": {},
          "execution_count": 13
        }
      ]
    },
    {
      "cell_type": "code",
      "source": [
        "# 모델\n",
        "# pretrained\n",
        "\n",
        "classes=['가리비','갈비찜','고등어','김치국','낚지볶음','돼지갈비찜','된장찌개','떡국','모듬초밥','배추찌개','부대찌개','순대','오리로스구이']\n",
        "def model_initialize():\n",
        "    model = model2\n",
        "    model.ftrs = model.fc.in_features # in_features : fully connected의 입력수.\n",
        "    num_ftrs = model.fc.in_features\n",
        "\n",
        "    # 1000 -> 10 로 fc를 수정. class가 10개니까\n",
        "    model.fc = nn.Sequential(nn.Linear(num_ftrs, len(classes)),)\n",
        "\n",
        "    model = model.cuda()\n",
        "    return model\n",
        "model=model_initialize()"
      ],
      "metadata": {
        "id": "dJXv4D0n1z90"
      },
      "execution_count": 14,
      "outputs": []
    },
    {
      "cell_type": "code",
      "source": [
        "import torch.optim as optim\n",
        "from torch.optim.lr_scheduler import StepLR\n",
        "\n",
        "criterion = nn.CrossEntropyLoss()\n",
        "optimizer = torch.optim.Adam(model.parameters(),lr=0.00015)\n",
        "scheduler = StepLR(optimizer, step_size=12, gamma=0.5)\n",
        "print(model)"
      ],
      "metadata": {
        "colab": {
          "base_uri": "https://localhost:8080/"
        },
        "id": "W-WiGM7A1z_p",
        "outputId": "67a4b1e1-24e4-487e-dcd7-00565718fda6"
      },
      "execution_count": 15,
      "outputs": [
        {
          "output_type": "stream",
          "name": "stdout",
          "text": [
            "ResNet(\n",
            "  (conv1): Conv2d(3, 64, kernel_size=(7, 7), stride=(2, 2), padding=(3, 3), bias=False)\n",
            "  (bn1): BatchNorm2d(64, eps=1e-05, momentum=0.1, affine=True, track_running_stats=True)\n",
            "  (relu): ReLU(inplace=True)\n",
            "  (maxpool): MaxPool2d(kernel_size=3, stride=2, padding=1, dilation=1, ceil_mode=False)\n",
            "  (layer1): Sequential(\n",
            "    (0): BasicBlock(\n",
            "      (conv1): Conv2d(64, 64, kernel_size=(3, 3), stride=(1, 1), padding=(1, 1), bias=False)\n",
            "      (bn1): BatchNorm2d(64, eps=1e-05, momentum=0.1, affine=True, track_running_stats=True)\n",
            "      (relu): ReLU(inplace=True)\n",
            "      (conv2): Conv2d(64, 64, kernel_size=(3, 3), stride=(1, 1), padding=(1, 1), bias=False)\n",
            "      (bn2): BatchNorm2d(64, eps=1e-05, momentum=0.1, affine=True, track_running_stats=True)\n",
            "    )\n",
            "    (1): BasicBlock(\n",
            "      (conv1): Conv2d(64, 64, kernel_size=(3, 3), stride=(1, 1), padding=(1, 1), bias=False)\n",
            "      (bn1): BatchNorm2d(64, eps=1e-05, momentum=0.1, affine=True, track_running_stats=True)\n",
            "      (relu): ReLU(inplace=True)\n",
            "      (conv2): Conv2d(64, 64, kernel_size=(3, 3), stride=(1, 1), padding=(1, 1), bias=False)\n",
            "      (bn2): BatchNorm2d(64, eps=1e-05, momentum=0.1, affine=True, track_running_stats=True)\n",
            "    )\n",
            "  )\n",
            "  (layer2): Sequential(\n",
            "    (0): BasicBlock(\n",
            "      (conv1): Conv2d(64, 128, kernel_size=(3, 3), stride=(2, 2), padding=(1, 1), bias=False)\n",
            "      (bn1): BatchNorm2d(128, eps=1e-05, momentum=0.1, affine=True, track_running_stats=True)\n",
            "      (relu): ReLU(inplace=True)\n",
            "      (conv2): Conv2d(128, 128, kernel_size=(3, 3), stride=(1, 1), padding=(1, 1), bias=False)\n",
            "      (bn2): BatchNorm2d(128, eps=1e-05, momentum=0.1, affine=True, track_running_stats=True)\n",
            "      (downsample): Sequential(\n",
            "        (0): Conv2d(64, 128, kernel_size=(1, 1), stride=(2, 2), bias=False)\n",
            "        (1): BatchNorm2d(128, eps=1e-05, momentum=0.1, affine=True, track_running_stats=True)\n",
            "      )\n",
            "    )\n",
            "    (1): BasicBlock(\n",
            "      (conv1): Conv2d(128, 128, kernel_size=(3, 3), stride=(1, 1), padding=(1, 1), bias=False)\n",
            "      (bn1): BatchNorm2d(128, eps=1e-05, momentum=0.1, affine=True, track_running_stats=True)\n",
            "      (relu): ReLU(inplace=True)\n",
            "      (conv2): Conv2d(128, 128, kernel_size=(3, 3), stride=(1, 1), padding=(1, 1), bias=False)\n",
            "      (bn2): BatchNorm2d(128, eps=1e-05, momentum=0.1, affine=True, track_running_stats=True)\n",
            "    )\n",
            "  )\n",
            "  (layer3): Sequential(\n",
            "    (0): BasicBlock(\n",
            "      (conv1): Conv2d(128, 256, kernel_size=(3, 3), stride=(2, 2), padding=(1, 1), bias=False)\n",
            "      (bn1): BatchNorm2d(256, eps=1e-05, momentum=0.1, affine=True, track_running_stats=True)\n",
            "      (relu): ReLU(inplace=True)\n",
            "      (conv2): Conv2d(256, 256, kernel_size=(3, 3), stride=(1, 1), padding=(1, 1), bias=False)\n",
            "      (bn2): BatchNorm2d(256, eps=1e-05, momentum=0.1, affine=True, track_running_stats=True)\n",
            "      (downsample): Sequential(\n",
            "        (0): Conv2d(128, 256, kernel_size=(1, 1), stride=(2, 2), bias=False)\n",
            "        (1): BatchNorm2d(256, eps=1e-05, momentum=0.1, affine=True, track_running_stats=True)\n",
            "      )\n",
            "    )\n",
            "    (1): BasicBlock(\n",
            "      (conv1): Conv2d(256, 256, kernel_size=(3, 3), stride=(1, 1), padding=(1, 1), bias=False)\n",
            "      (bn1): BatchNorm2d(256, eps=1e-05, momentum=0.1, affine=True, track_running_stats=True)\n",
            "      (relu): ReLU(inplace=True)\n",
            "      (conv2): Conv2d(256, 256, kernel_size=(3, 3), stride=(1, 1), padding=(1, 1), bias=False)\n",
            "      (bn2): BatchNorm2d(256, eps=1e-05, momentum=0.1, affine=True, track_running_stats=True)\n",
            "    )\n",
            "  )\n",
            "  (layer4): Sequential(\n",
            "    (0): BasicBlock(\n",
            "      (conv1): Conv2d(256, 512, kernel_size=(3, 3), stride=(2, 2), padding=(1, 1), bias=False)\n",
            "      (bn1): BatchNorm2d(512, eps=1e-05, momentum=0.1, affine=True, track_running_stats=True)\n",
            "      (relu): ReLU(inplace=True)\n",
            "      (conv2): Conv2d(512, 512, kernel_size=(3, 3), stride=(1, 1), padding=(1, 1), bias=False)\n",
            "      (bn2): BatchNorm2d(512, eps=1e-05, momentum=0.1, affine=True, track_running_stats=True)\n",
            "      (downsample): Sequential(\n",
            "        (0): Conv2d(256, 512, kernel_size=(1, 1), stride=(2, 2), bias=False)\n",
            "        (1): BatchNorm2d(512, eps=1e-05, momentum=0.1, affine=True, track_running_stats=True)\n",
            "      )\n",
            "    )\n",
            "    (1): BasicBlock(\n",
            "      (conv1): Conv2d(512, 512, kernel_size=(3, 3), stride=(1, 1), padding=(1, 1), bias=False)\n",
            "      (bn1): BatchNorm2d(512, eps=1e-05, momentum=0.1, affine=True, track_running_stats=True)\n",
            "      (relu): ReLU(inplace=True)\n",
            "      (conv2): Conv2d(512, 512, kernel_size=(3, 3), stride=(1, 1), padding=(1, 1), bias=False)\n",
            "      (bn2): BatchNorm2d(512, eps=1e-05, momentum=0.1, affine=True, track_running_stats=True)\n",
            "    )\n",
            "  )\n",
            "  (avgpool): AdaptiveAvgPool2d(output_size=(1, 1))\n",
            "  (fc): Sequential(\n",
            "    (0): Linear(in_features=512, out_features=13, bias=True)\n",
            "  )\n",
            ")\n"
          ]
        }
      ]
    },
    {
      "cell_type": "code",
      "source": [
        "#8. 학습\n",
        "def train(model,train_loader,optimizer, log_interval):\n",
        "    model.train()\n",
        "    correct = 0\n",
        "    train_loss = 0\n",
        "    for batch_idx,(image,label) in enumerate(train_loader):\n",
        "        image = image.to(DEVICE)\n",
        "        label = label.to(DEVICE)\n",
        "        #데이터들 장비에 할당\n",
        "        optimizer.zero_grad() # device 에 저장된 gradient 제거\n",
        "        output = model(image) # model로 output을 계산\n",
        "        loss = criterion(output, label) #loss 계산\n",
        "        train_loss += loss.item()\n",
        "        prediction = output.max(1,keepdim=True)[1] # 가장 확률이 높은 class 1개를 가져온다.그리고 인덱스만\n",
        "        correct += prediction.eq(label.view_as(prediction)).sum().item()# 아웃풋이 배치 사이즈 32개라서.\n",
        "        loss.backward() # loss 값을 이용해 gradient를 계산\n",
        "        optimizer.step() # Gradient 값을 이용해 파라미터 업데이트.\n",
        "    train_loss/=len(train_loader.dataset)\n",
        "    train_accuracy = 100. * correct / len(train_loader.dataset)\n",
        "    return train_loss,train_accuracy"
      ],
      "metadata": {
        "id": "onbbAL4X5UDH"
      },
      "execution_count": 10,
      "outputs": []
    },
    {
      "cell_type": "code",
      "source": [
        "#9. 학습 진행하며, validation 데이터로 모델 성능확인\n",
        "def evaluate(model,valid_loader):\n",
        "    model.eval()\n",
        "    misclassified_images = []\n",
        "    valid_loss = 0\n",
        "    correct = 0\n",
        "    #no_grad : 그래디언트 값 계산 막기.\n",
        "    with torch.no_grad():\n",
        "        for image, label in valid_loader:\n",
        "            image = image.to(DEVICE)\n",
        "            label = label.to(DEVICE)\n",
        "            output = model(image)\n",
        "            valid_loss += criterion(output, label).item()\n",
        "            prediction = output.max(1,keepdim=True)[1] # 가장 확률이 높은 class 1개를 가져온다.그리고 인덱스만\n",
        "            correct += prediction.eq(label.view_as(prediction)).sum().item()# 아웃풋이 배치 사이즈 32개라서.\n",
        "                        # Check for misclassified images\n",
        "            for i in range(label.size(0)):\n",
        "                if prediction[i] != label[i]:\n",
        "                    misclassified_images.append((image[i], prediction[i], label[i]))\n",
        "\n",
        "            #true.false값을 sum해줌. item\n",
        "        valid_loss /= len(valid_loader.dataset)\n",
        "        valid_accuracy = 100. * correct / len(valid_loader.dataset)\n",
        "        return valid_loss,valid_accuracy,misclassified_images"
      ],
      "metadata": {
        "id": "mvFRHhTe5WkC"
      },
      "execution_count": 11,
      "outputs": []
    },
    {
      "cell_type": "code",
      "source": [
        "patience = 5  # Define your patience value\n",
        "best_valid_acc = 0  # Initialize the best validation accuracy\n",
        "\n",
        "for Epoch in range(1, EPOCHS + 1):\n",
        "    train_loss, train_accuracy = train(model, train_loader, optimizer, log_interval=31)\n",
        "    valid_loss, valid_accuracy,_ = evaluate(model, validation_loader)\n",
        "\n",
        "    scheduler.step()\n",
        "\n",
        "    print(\"\\n[EPOCH:{}]\\t Train Loss:{:.4f}\\t Train Acc:{:.2f} %  | \\tValid Loss:{:.4f} \\tValid Acc: {:.2f} %\\n\".\n",
        "        format(Epoch, train_loss, train_accuracy, valid_loss, valid_accuracy))\n",
        "\n",
        "    # Check if the validation accuracy improved\n",
        "    if valid_accuracy > best_valid_acc:\n",
        "        best_valid_acc = valid_accuracy\n",
        "        # Reset the patience count because the validation accuracy improved\n",
        "        patience_counter = 0\n",
        "    else:\n",
        "        patience_counter += 1"
      ],
      "metadata": {
        "colab": {
          "base_uri": "https://localhost:8080/"
        },
        "id": "YgZNsLLf5Wl-",
        "outputId": "736af3e6-b7ff-44c0-acc4-60f89a8a9a5a"
      },
      "execution_count": 16,
      "outputs": [
        {
          "output_type": "stream",
          "name": "stdout",
          "text": [
            "\n",
            "[EPOCH:1]\t Train Loss:0.0297\t Train Acc:35.97 %  | \tValid Loss:0.0252 \tValid Acc: 47.64 %\n",
            "\n",
            "\n",
            "[EPOCH:2]\t Train Loss:0.0216\t Train Acc:53.74 %  | \tValid Loss:0.0240 \tValid Acc: 50.37 %\n",
            "\n",
            "\n",
            "[EPOCH:3]\t Train Loss:0.0177\t Train Acc:62.10 %  | \tValid Loss:0.0179 \tValid Acc: 61.07 %\n",
            "\n",
            "\n",
            "[EPOCH:4]\t Train Loss:0.0150\t Train Acc:67.38 %  | \tValid Loss:0.0160 \tValid Acc: 65.85 %\n",
            "\n",
            "\n",
            "[EPOCH:5]\t Train Loss:0.0130\t Train Acc:71.92 %  | \tValid Loss:0.0132 \tValid Acc: 71.48 %\n",
            "\n",
            "\n",
            "[EPOCH:6]\t Train Loss:0.0113\t Train Acc:75.35 %  | \tValid Loss:0.0126 \tValid Acc: 73.86 %\n",
            "\n",
            "\n",
            "[EPOCH:7]\t Train Loss:0.0100\t Train Acc:78.24 %  | \tValid Loss:0.0137 \tValid Acc: 72.51 %\n",
            "\n",
            "\n",
            "[EPOCH:8]\t Train Loss:0.0090\t Train Acc:80.61 %  | \tValid Loss:0.0105 \tValid Acc: 76.48 %\n",
            "\n",
            "\n",
            "[EPOCH:9]\t Train Loss:0.0079\t Train Acc:83.41 %  | \tValid Loss:0.0114 \tValid Acc: 75.74 %\n",
            "\n",
            "\n",
            "[EPOCH:10]\t Train Loss:0.0073\t Train Acc:83.93 %  | \tValid Loss:0.0099 \tValid Acc: 79.17 %\n",
            "\n",
            "\n",
            "[EPOCH:11]\t Train Loss:0.0065\t Train Acc:85.73 %  | \tValid Loss:0.0094 \tValid Acc: 79.99 %\n",
            "\n",
            "\n",
            "[EPOCH:12]\t Train Loss:0.0060\t Train Acc:86.75 %  | \tValid Loss:0.0077 \tValid Acc: 83.00 %\n",
            "\n",
            "\n",
            "[EPOCH:13]\t Train Loss:0.0041\t Train Acc:91.13 %  | \tValid Loss:0.0047 \tValid Acc: 90.33 %\n",
            "\n",
            "\n",
            "[EPOCH:14]\t Train Loss:0.0036\t Train Acc:92.49 %  | \tValid Loss:0.0051 \tValid Acc: 88.84 %\n",
            "\n",
            "\n",
            "[EPOCH:15]\t Train Loss:0.0033\t Train Acc:93.08 %  | \tValid Loss:0.0048 \tValid Acc: 90.15 %\n",
            "\n",
            "\n",
            "[EPOCH:16]\t Train Loss:0.0031\t Train Acc:93.27 %  | \tValid Loss:0.0049 \tValid Acc: 89.87 %\n",
            "\n",
            "\n",
            "[EPOCH:17]\t Train Loss:0.0031\t Train Acc:93.15 %  | \tValid Loss:0.0042 \tValid Acc: 91.11 %\n",
            "\n",
            "\n",
            "[EPOCH:18]\t Train Loss:0.0028\t Train Acc:93.45 %  | \tValid Loss:0.0050 \tValid Acc: 88.63 %\n",
            "\n",
            "\n",
            "[EPOCH:19]\t Train Loss:0.0026\t Train Acc:94.15 %  | \tValid Loss:0.0039 \tValid Acc: 91.53 %\n",
            "\n",
            "\n",
            "[EPOCH:20]\t Train Loss:0.0026\t Train Acc:94.23 %  | \tValid Loss:0.0041 \tValid Acc: 91.32 %\n",
            "\n",
            "\n",
            "[EPOCH:21]\t Train Loss:0.0024\t Train Acc:94.74 %  | \tValid Loss:0.0033 \tValid Acc: 92.84 %\n",
            "\n",
            "\n",
            "[EPOCH:22]\t Train Loss:0.0024\t Train Acc:94.43 %  | \tValid Loss:0.0039 \tValid Acc: 91.57 %\n",
            "\n",
            "\n",
            "[EPOCH:23]\t Train Loss:0.0024\t Train Acc:94.54 %  | \tValid Loss:0.0041 \tValid Acc: 91.04 %\n",
            "\n",
            "\n",
            "[EPOCH:24]\t Train Loss:0.0021\t Train Acc:95.11 %  | \tValid Loss:0.0041 \tValid Acc: 91.99 %\n",
            "\n",
            "\n",
            "[EPOCH:25]\t Train Loss:0.0016\t Train Acc:96.35 %  | \tValid Loss:0.0028 \tValid Acc: 94.58 %\n",
            "\n",
            "\n",
            "[EPOCH:26]\t Train Loss:0.0014\t Train Acc:96.94 %  | \tValid Loss:0.0025 \tValid Acc: 94.97 %\n",
            "\n",
            "\n",
            "[EPOCH:27]\t Train Loss:0.0013\t Train Acc:96.87 %  | \tValid Loss:0.0024 \tValid Acc: 95.01 %\n",
            "\n",
            "\n",
            "[EPOCH:28]\t Train Loss:0.0012\t Train Acc:97.01 %  | \tValid Loss:0.0026 \tValid Acc: 95.22 %\n",
            "\n",
            "\n",
            "[EPOCH:29]\t Train Loss:0.0013\t Train Acc:96.96 %  | \tValid Loss:0.0026 \tValid Acc: 94.51 %\n",
            "\n",
            "\n",
            "[EPOCH:30]\t Train Loss:0.0013\t Train Acc:96.72 %  | \tValid Loss:0.0023 \tValid Acc: 95.22 %\n",
            "\n",
            "\n",
            "[EPOCH:31]\t Train Loss:0.0012\t Train Acc:97.14 %  | \tValid Loss:0.0026 \tValid Acc: 94.19 %\n",
            "\n",
            "\n",
            "[EPOCH:32]\t Train Loss:0.0011\t Train Acc:97.40 %  | \tValid Loss:0.0022 \tValid Acc: 95.25 %\n",
            "\n",
            "\n",
            "[EPOCH:33]\t Train Loss:0.0012\t Train Acc:97.29 %  | \tValid Loss:0.0022 \tValid Acc: 95.25 %\n",
            "\n",
            "\n",
            "[EPOCH:34]\t Train Loss:0.0011\t Train Acc:97.26 %  | \tValid Loss:0.0027 \tValid Acc: 94.19 %\n",
            "\n",
            "\n",
            "[EPOCH:35]\t Train Loss:0.0012\t Train Acc:97.14 %  | \tValid Loss:0.0025 \tValid Acc: 94.62 %\n",
            "\n",
            "\n",
            "[EPOCH:36]\t Train Loss:0.0012\t Train Acc:97.17 %  | \tValid Loss:0.0026 \tValid Acc: 94.58 %\n",
            "\n",
            "\n",
            "[EPOCH:37]\t Train Loss:0.0009\t Train Acc:97.86 %  | \tValid Loss:0.0018 \tValid Acc: 96.21 %\n",
            "\n",
            "\n",
            "[EPOCH:38]\t Train Loss:0.0009\t Train Acc:97.72 %  | \tValid Loss:0.0020 \tValid Acc: 95.89 %\n",
            "\n",
            "\n",
            "[EPOCH:39]\t Train Loss:0.0009\t Train Acc:98.01 %  | \tValid Loss:0.0019 \tValid Acc: 95.96 %\n",
            "\n",
            "\n",
            "[EPOCH:40]\t Train Loss:0.0009\t Train Acc:98.05 %  | \tValid Loss:0.0018 \tValid Acc: 95.75 %\n",
            "\n",
            "\n",
            "[EPOCH:41]\t Train Loss:0.0009\t Train Acc:97.75 %  | \tValid Loss:0.0020 \tValid Acc: 96.25 %\n",
            "\n",
            "\n",
            "[EPOCH:42]\t Train Loss:0.0009\t Train Acc:97.73 %  | \tValid Loss:0.0019 \tValid Acc: 96.10 %\n",
            "\n",
            "\n",
            "[EPOCH:43]\t Train Loss:0.0008\t Train Acc:97.99 %  | \tValid Loss:0.0019 \tValid Acc: 96.00 %\n",
            "\n",
            "\n",
            "[EPOCH:44]\t Train Loss:0.0008\t Train Acc:98.03 %  | \tValid Loss:0.0018 \tValid Acc: 96.28 %\n",
            "\n",
            "\n",
            "[EPOCH:45]\t Train Loss:0.0008\t Train Acc:98.00 %  | \tValid Loss:0.0019 \tValid Acc: 96.14 %\n",
            "\n",
            "\n",
            "[EPOCH:46]\t Train Loss:0.0008\t Train Acc:97.90 %  | \tValid Loss:0.0020 \tValid Acc: 95.47 %\n",
            "\n",
            "\n",
            "[EPOCH:47]\t Train Loss:0.0008\t Train Acc:98.11 %  | \tValid Loss:0.0021 \tValid Acc: 95.78 %\n",
            "\n",
            "\n",
            "[EPOCH:48]\t Train Loss:0.0008\t Train Acc:97.95 %  | \tValid Loss:0.0018 \tValid Acc: 96.25 %\n",
            "\n",
            "\n",
            "[EPOCH:49]\t Train Loss:0.0007\t Train Acc:98.23 %  | \tValid Loss:0.0020 \tValid Acc: 96.60 %\n",
            "\n",
            "\n",
            "[EPOCH:50]\t Train Loss:0.0007\t Train Acc:98.20 %  | \tValid Loss:0.0018 \tValid Acc: 96.32 %\n",
            "\n"
          ]
        }
      ]
    },
    {
      "cell_type": "markdown",
      "source": [
        "#모델 평가"
      ],
      "metadata": {
        "id": "frlozDjcIw0V"
      }
    },
    {
      "cell_type": "code",
      "source": [
        "import os\n",
        "from tqdm.notebook import tqdm\n",
        "from warnings import filterwarnings\n",
        "filterwarnings('ignore')\n",
        "\n",
        "import torch\n",
        "from torch import nn, optim\n",
        "from torch.utils.data.dataloader import DataLoader\n",
        "from torch.utils.data import random_split\n",
        "from torch.utils.tensorboard import SummaryWriter\n",
        "from torchvision import models\n",
        "from torchvision import transforms as T\n",
        "from torchvision.datasets import ImageFolder\n",
        "\n",
        "from torch.backends import cudnn\n",
        "cudnn.benchmark = True"
      ],
      "metadata": {
        "id": "KJLULVduH57G"
      },
      "execution_count": 17,
      "outputs": []
    },
    {
      "cell_type": "code",
      "source": [
        "# 채점시 사용되는 코드\n",
        "# 본인의 코드에 사용해도 된다.\n",
        "@torch.no_grad()\n",
        "def validate_epoch(model: nn.Module, data_loader: DataLoader, device: torch.device):\n",
        "    ''' data_loader provides inputs and GTs.\n",
        "        model receives input images from data_loader and produces logits.\n",
        "        returns the accuracy of model in percent.\n",
        "    '''\n",
        "    model.eval()\n",
        "    accuracies = []\n",
        "    for images, labels in tqdm(data_loader, total=len(data_loader), mininterval=1, desc='measuring accuracy'):\n",
        "        images = images.to(device)\n",
        "        labels = labels.to(device)\n",
        "\n",
        "        logits = model(images)\n",
        "        pred = torch.argmax(logits, dim=1)\n",
        "\n",
        "        accuracies.append(pred == labels)\n",
        "\n",
        "    accuracy = torch.concat(accuracies).float().mean() * 100\n",
        "    return accuracy.item()"
      ],
      "metadata": {
        "id": "31yV5mRnIy1j"
      },
      "execution_count": 18,
      "outputs": []
    },
    {
      "cell_type": "code",
      "source": [
        "model.to(DEVICE)\n",
        "validate_epoch(model2, test_loader,device=\"cuda\")"
      ],
      "metadata": {
        "colab": {
          "base_uri": "https://localhost:8080/",
          "height": 67,
          "referenced_widgets": [
            "1f8f303536e743a7bfb25a5139d72cf0",
            "cb8a1859f1e946e3957c09cff6afd082",
            "13b8f5da82f04382935041c274455221",
            "77a94fb48f87403788f1cb1ff3f0e1d5",
            "469b3d98a0bc4aaf9da1c8c1b66a9547",
            "0401b21eae8f4a7fa17eb895ef11b262",
            "91b07ab3480b47de984e352449871b6b",
            "1429d3cd58d14c80b9601b9560adee37",
            "8cddd2f2b34141e3bfe71062ba3e59e6",
            "4c1f5eda8503495bbe456f051ec846b1",
            "68ff3047cfc049459125b56ae8e8867d"
          ]
        },
        "id": "aHZyr0dKI7gn",
        "outputId": "2789c4a5-583a-4a91-dc36-c9ad41214964"
      },
      "execution_count": 19,
      "outputs": [
        {
          "output_type": "display_data",
          "data": {
            "text/plain": [
              "measuring accuracy:   0%|          | 0/28 [00:00<?, ?it/s]"
            ],
            "application/vnd.jupyter.widget-view+json": {
              "version_major": 2,
              "version_minor": 0,
              "model_id": "1f8f303536e743a7bfb25a5139d72cf0"
            }
          },
          "metadata": {}
        },
        {
          "output_type": "execute_result",
          "data": {
            "text/plain": [
              "96.03174591064453"
            ]
          },
          "metadata": {},
          "execution_count": 19
        }
      ]
    },
    {
      "cell_type": "code",
      "source": [],
      "metadata": {
        "id": "5Xqi9u2sJA5K"
      },
      "execution_count": null,
      "outputs": []
    }
  ]
}